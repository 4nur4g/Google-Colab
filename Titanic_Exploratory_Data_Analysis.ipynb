{
  "nbformat": 4,
  "nbformat_minor": 0,
  "metadata": {
    "kernelspec": {
      "language": "python",
      "display_name": "Python 3",
      "name": "python3"
    },
    "language_info": {
      "pygments_lexer": "ipython3",
      "nbconvert_exporter": "python",
      "version": "3.6.4",
      "file_extension": ".py",
      "codemirror_mode": {
        "name": "ipython",
        "version": 3
      },
      "name": "python",
      "mimetype": "text/x-python"
    },
    "colab": {
      "name": "Titanic Exploratory Data Analysis .ipynb",
      "provenance": [],
      "include_colab_link": true
    }
  },
  "cells": [
    {
      "cell_type": "markdown",
      "metadata": {
        "id": "view-in-github",
        "colab_type": "text"
      },
      "source": [
        "<a href=\"https://colab.research.google.com/github/4nur4g/Google-Colab/blob/master/Titanic_Exploratory_Data_Analysis.ipynb\" target=\"_parent\"><img src=\"https://colab.research.google.com/assets/colab-badge.svg\" alt=\"Open In Colab\"/></a>"
      ]
    },
    {
      "cell_type": "code",
      "metadata": {
        "_uuid": "8f2839f25d086af736a60e9eeb907d3b93b6e0e5",
        "_cell_guid": "b1076dfc-b9ad-4769-8c92-a6c4dae69d19",
        "trusted": true,
        "id": "NXotAeyd5icA",
        "colab_type": "code",
        "colab": {}
      },
      "source": [
        "import os\n",
        "for dirname, _, filenames in os.walk('/kaggle/input'):\n",
        "    for filename in filenames:\n",
        "        print(os.path.join(dirname, filename))"
      ],
      "execution_count": 0,
      "outputs": []
    },
    {
      "cell_type": "markdown",
      "metadata": {
        "id": "_rGhBE1D5icG",
        "colab_type": "text"
      },
      "source": [
        "## **References**\n",
        "* [Visualisation and Code](https://github.com/mjamilmoughal/DataSciencePractices/blob/master/Exploratory%20Data%20Analysis%20with%20Titanic%20Dataset.ipynb)\n",
        "* [Expected Surivival From Different Features](https://github.com/raghav96/datascience/blob/master/Titanic%20Dataset%20Kaggle%20Competition.ipynb) <br/>\n",
        "* [Visualisation](https://towardsdatascience.com/predicting-the-survival-of-titanic-passengers-30870ccc7e8) <br/>\n",
        "* [Visualisation](https://zmudzinski.me/posts/2019/02/titanic-eda/) <br/>"
      ]
    },
    {
      "cell_type": "markdown",
      "metadata": {
        "id": "rAUpqvLW5icI",
        "colab_type": "text"
      },
      "source": [
        "# Load the Dataset"
      ]
    },
    {
      "cell_type": "code",
      "metadata": {
        "trusted": true,
        "id": "zL5WrsHT5icJ",
        "colab_type": "code",
        "colab": {}
      },
      "source": [
        "import numpy as np # linear algebra\n",
        "import pandas as pd # data processing, CSV file I/O (e.g. pd.read_csv)"
      ],
      "execution_count": 0,
      "outputs": []
    },
    {
      "cell_type": "code",
      "metadata": {
        "_uuid": "d629ff2d2480ee46fbb7e2d37f6b5fab8052498a",
        "_cell_guid": "79c7e3d0-c299-4dcb-8224-4455121ee9b0",
        "trusted": true,
        "id": "UqlJ7fud5icM",
        "colab_type": "code",
        "colab": {}
      },
      "source": [
        "# reading data from csv\n",
        "data = pd.read_csv('/kaggle/input/titanic/train.csv')\n",
        "# shape of the dataset\n",
        "print(data.shape)"
      ],
      "execution_count": 0,
      "outputs": []
    },
    {
      "cell_type": "code",
      "metadata": {
        "trusted": true,
        "id": "1_cGjryo5icO",
        "colab_type": "code",
        "colab": {}
      },
      "source": [
        "test = pd.read_csv('/kaggle/input/titanic/test.csv')\n",
        "print(test.shape)"
      ],
      "execution_count": 0,
      "outputs": []
    },
    {
      "cell_type": "markdown",
      "metadata": {
        "id": "UbghFWLO5icQ",
        "colab_type": "text"
      },
      "source": [
        "# Cleaning & Analysis the dataset"
      ]
    },
    {
      "cell_type": "code",
      "metadata": {
        "trusted": true,
        "id": "SDcGwuco5icQ",
        "colab_type": "code",
        "colab": {}
      },
      "source": [
        "data.head()"
      ],
      "execution_count": 0,
      "outputs": []
    },
    {
      "cell_type": "code",
      "metadata": {
        "trusted": true,
        "id": "i2_uuyz45icS",
        "colab_type": "code",
        "colab": {}
      },
      "source": [
        "data.info()"
      ],
      "execution_count": 0,
      "outputs": []
    },
    {
      "cell_type": "code",
      "metadata": {
        "trusted": true,
        "id": "CRIuzXvq5icV",
        "colab_type": "code",
        "colab": {}
      },
      "source": [
        "data.describe()"
      ],
      "execution_count": 0,
      "outputs": []
    },
    {
      "cell_type": "markdown",
      "metadata": {
        "id": "2JJLezt85icX",
        "colab_type": "text"
      },
      "source": [
        "#### Inital Analysis without DataCleaning\n",
        " - 38 percentage of people survived.\n",
        " - Missing values in Age.\n",
        " - Passengers Age from 0.4 to 80."
      ]
    },
    {
      "cell_type": "code",
      "metadata": {
        "trusted": true,
        "id": "sPKpHk-U5icY",
        "colab_type": "code",
        "colab": {}
      },
      "source": [
        "# function of finding NaN Values present in dataset\n",
        "def find_NaN(data):\n",
        "    total = data.isnull().sum().sort_values(ascending=False)\n",
        "    percent_1 = data.isnull().sum()/data.isnull().count()*100\n",
        "    percent_2 = (round(percent_1, 1)).sort_values(ascending=False)\n",
        "    nan = pd.concat([total, percent_2], axis=1, keys=['Total', '%'])\n",
        "    print('Finding NaN Values present in dataset')\n",
        "    print(nan.head(4))"
      ],
      "execution_count": 0,
      "outputs": []
    },
    {
      "cell_type": "code",
      "metadata": {
        "trusted": true,
        "id": "quyJTJW45ica",
        "colab_type": "code",
        "colab": {}
      },
      "source": [
        "find_NaN(data)"
      ],
      "execution_count": 0,
      "outputs": []
    },
    {
      "cell_type": "code",
      "metadata": {
        "trusted": true,
        "id": "p7zw5Gfe5icc",
        "colab_type": "code",
        "colab": {}
      },
      "source": [
        "# Count values in the column\n",
        "data['Embarked'].value_counts()"
      ],
      "execution_count": 0,
      "outputs": []
    },
    {
      "cell_type": "code",
      "metadata": {
        "trusted": true,
        "id": "ajwMTUoB5ice",
        "colab_type": "code",
        "colab": {}
      },
      "source": [
        "# Fill NaN value with mean in Age\n",
        "data['Age'] = data['Age'].fillna((data['Age'].mean()))\n",
        "\n",
        "# Fill NaN value with most common Port\n",
        "data['Embarked'] = data['Embarked'].fillna('S')"
      ],
      "execution_count": 0,
      "outputs": []
    },
    {
      "cell_type": "code",
      "metadata": {
        "trusted": true,
        "id": "RQoUijcJ5ich",
        "colab_type": "code",
        "colab": {}
      },
      "source": [
        "data.columns"
      ],
      "execution_count": 0,
      "outputs": []
    },
    {
      "cell_type": "markdown",
      "metadata": {
        "id": "ln1ef_bw5icj",
        "colab_type": "text"
      },
      "source": [
        "### Finding Survival Rates from different features\n",
        "* Pclass : Ticket class\n",
        "* Sex : Gender like Female rate of Survival?\n",
        "* Age : Which Age group Survivality rate is High?\n",
        "* SibSp : Sibling Spouses aboard on the ship\n",
        "* Parch : Parents and Children Aboard on the ship"
      ]
    },
    {
      "cell_type": "code",
      "metadata": {
        "trusted": true,
        "id": "mhqSzZv85ick",
        "colab_type": "code",
        "colab": {}
      },
      "source": [
        "# Function Showing DataFrame Side by Side\n",
        "from IPython.core.display import display, HTML\n",
        "def display_side_by_side(dfs:list, captions:list):\n",
        "    output = \"\"\n",
        "    combined = dict(zip(captions, dfs))\n",
        "    for caption, df in combined.items():\n",
        "        # Use df.head() to show only top 5 rows\n",
        "        output += df.head().style.set_table_attributes(\"style='display:inline'\").set_caption(caption)._repr_html_()\n",
        "        output += \"\\xa0\\xa0\\xa0\"\n",
        "    display(HTML(output))"
      ],
      "execution_count": 0,
      "outputs": []
    },
    {
      "cell_type": "code",
      "metadata": {
        "trusted": true,
        "id": "Oy6G-9F95icm",
        "colab_type": "code",
        "colab": {}
      },
      "source": [
        "# Relationship between Survival of Passenger and Different features\n",
        "PCLASS = data[['Pclass', 'Survived']].groupby(['Pclass'], as_index=False).mean().sort_values(by='Survived', ascending=False)\n",
        "SEX = data[['Sex', 'Survived']].groupby(['Sex'], as_index=False).mean().sort_values(by='Survived', ascending=False)\n",
        "AGE = data[['Age', 'Survived']].groupby(['Age'], as_index=False).mean().sort_values(by='Survived', ascending=False)\n",
        "PARCH = data[['Parch', 'Survived']].groupby(['Parch'], as_index=False).mean().sort_values(by='Survived', ascending=False)\n",
        "SIBSP = data[['SibSp', 'Survived']].groupby(['SibSp'], as_index=False).mean().sort_values(by='Survived', ascending=False)\n",
        "display_side_by_side([PCLASS,SEX,AGE,PARCH,SIBSP], ['TICKET CLASS','SEX','AGE','PARCH','SIBSP'])"
      ],
      "execution_count": 0,
      "outputs": []
    },
    {
      "cell_type": "markdown",
      "metadata": {
        "id": "YJB_Lqgd5icp",
        "colab_type": "text"
      },
      "source": [
        "### Analysis of Survival Rate of a Passenger\n",
        "* Ticket Class 1 (Rich People) : 62% \n",
        "* Sex (Female) : 74%\n",
        "* Age (Infants) : 100%\n",
        "* Age (3 yrs) : 83%\n",
        "* Age (15 yrs) : 80%\n",
        "* Parent or Children Aboard on the ship : 60%\n",
        "* 1 Sibling : 53%\n",
        "* 2 Siblings : 46%\n",
        "* 5 & 8 Siblings : 0%"
      ]
    },
    {
      "cell_type": "code",
      "metadata": {
        "trusted": true,
        "id": "0jJc9Et15icp",
        "colab_type": "code",
        "colab": {}
      },
      "source": [
        "# PCLASS\n",
        "survived = pd.crosstab(index=data.Survived, columns = data.Pclass, margins=True)\n",
        "survived.columns = ['Upper Class','Middle Class','Lower Class','ColTotal']\n",
        "survived.index = ['Not Survived','Survived','RowTotal']\n",
        "# Normalization of PCLASS\n",
        "survived_per = pd.crosstab(index=data.Survived, columns = data.Pclass, margins=True,normalize=True)\n",
        "survived_per.columns = ['Upper Class','Middle Class','Lower Class','ColTotal']\n",
        "survived_per.index = ['Not Survived','Survived','RowTotal']\n",
        "display_side_by_side([survived, survived_per], ['Survived','Survived_per'])\n",
        "\n",
        "# Siblings \n",
        "survived_sib = pd.crosstab(index=data.Survived, columns = data.SibSp, margins=True,colnames=['Siblings'])\n",
        "# Normalisation of Siblings\n",
        "survived_sib_per = pd.crosstab(index=data.Survived, columns = data.SibSp, margins=True,colnames=['Siblings'],normalize=True)\n",
        "survived_sib_per.index = ['Not Survived','Survived','RowTotal']\n",
        "survived_sib.index = ['Not Survived','Survived','RowTotal']\n",
        "display_side_by_side([survived_sib, survived_sib_per], ['Survived_sib','Survived_sib_per'])\n"
      ],
      "execution_count": 0,
      "outputs": []
    },
    {
      "cell_type": "markdown",
      "metadata": {
        "id": "XrOz7h_b5icr",
        "colab_type": "text"
      },
      "source": [
        "* Lower Class have max Count (372 & 41%) who didn't Survived.\n",
        "* Upper Class have max Count (136 & 15%) who Survived."
      ]
    },
    {
      "cell_type": "markdown",
      "metadata": {
        "id": "4zoXy0O65ics",
        "colab_type": "text"
      },
      "source": [
        "# Visualisation of Training Dataset"
      ]
    },
    {
      "cell_type": "code",
      "metadata": {
        "trusted": true,
        "id": "c_CJdhlh5ict",
        "colab_type": "code",
        "colab": {}
      },
      "source": [
        "# importing libraries for data visualisation\n",
        "import seaborn as sns\n",
        "%matplotlib inline\n",
        "from matplotlib import pyplot as plt\n",
        "from matplotlib import style\n",
        "sns.set(style='darkgrid')"
      ],
      "execution_count": 0,
      "outputs": []
    },
    {
      "cell_type": "markdown",
      "metadata": {
        "id": "b79qGupO5icv",
        "colab_type": "text"
      },
      "source": [
        "## Analysis of Survival Rate"
      ]
    },
    {
      "cell_type": "markdown",
      "metadata": {
        "id": "DaZoqpYE5icv",
        "colab_type": "text"
      },
      "source": [
        "### Age and Sex with [Kernel Density Estimation](https://en.wikipedia.org/wiki/Kernel_density_estimation)"
      ]
    },
    {
      "cell_type": "code",
      "metadata": {
        "trusted": true,
        "id": "FWkfoNS25icw",
        "colab_type": "code",
        "colab": {}
      },
      "source": [
        "survived = 'survived'\n",
        "not_survived = 'not survived'\n",
        "fig, axes = plt.subplots(nrows=1, ncols=2,figsize=(14, 6))\n",
        "female = data[data['Sex']=='female']\n",
        "male = data[data['Sex']=='male']\n",
        "\n",
        "# Chart of Female\n",
        "ax = sns.distplot(female[female['Survived']==1].Age.dropna(),bins=18, label = survived, ax = axes[0], kde =True)\n",
        "ax = sns.distplot(female[female['Survived']==0].Age.dropna(),bins=40, label = not_survived, ax = axes[0], kde =True)\n",
        "ax.legend()\n",
        "ax.set_title('Female')\n",
        "\n",
        "# Chart of Male\n",
        "ax = sns.distplot(male[male['Survived']==1].Age.dropna(), bins=18, label = survived, ax = axes[1], kde = True)\n",
        "ax = sns.distplot(male[male['Survived']==0].Age.dropna(), bins=40, label = not_survived, ax = axes[1], kde = True)\n",
        "ax.legend()\n",
        "ax.set_title('Male')"
      ],
      "execution_count": 0,
      "outputs": []
    },
    {
      "cell_type": "markdown",
      "metadata": {
        "id": "PmiuYUPd5icy",
        "colab_type": "text"
      },
      "source": [
        "* Survival Rate of Females is more when their Age is between 15 yrs to 40 yrs and 0.1 yrs to 5 yrs.\n",
        "* Survival Rate of Males is more when they have age between 0.1 yrs to 5 yrs (infants) and 18 yrs to 40 yrs."
      ]
    },
    {
      "cell_type": "markdown",
      "metadata": {
        "id": "suGpwDuy5ic0",
        "colab_type": "text"
      },
      "source": [
        "### Survival Rate of PClass"
      ]
    },
    {
      "cell_type": "code",
      "metadata": {
        "trusted": true,
        "id": "2vikbXku5ic1",
        "colab_type": "code",
        "colab": {}
      },
      "source": [
        "sns.countplot('Pclass', hue='Survived', data=data)\n",
        "plt.title('PClass Survival Rate')\n",
        "plt.show()"
      ],
      "execution_count": 0,
      "outputs": []
    },
    {
      "cell_type": "markdown",
      "metadata": {
        "id": "60RrNd3j5ic4",
        "colab_type": "text"
      },
      "source": [
        "* Survival rate of 1st class is more in compare of 2nd and 3rd Class, even if passengers are greater in number in 3rd class"
      ]
    },
    {
      "cell_type": "code",
      "metadata": {
        "trusted": true,
        "id": "CJwiBgKI5ic6",
        "colab_type": "code",
        "colab": {}
      },
      "source": [
        "# Deep Analysis of Pclass\n",
        "pd.crosstab([data.Sex, data.Survived], data.Pclass, margins=True).style.background_gradient(cmap='PuBu')"
      ],
      "execution_count": 0,
      "outputs": []
    },
    {
      "cell_type": "code",
      "metadata": {
        "trusted": true,
        "id": "8uLWDFWW5ic8",
        "colab_type": "code",
        "colab": {}
      },
      "source": [
        "sns.factorplot('Pclass', 'Survived', hue='Sex', data=data)\n",
        "plt.show()"
      ],
      "execution_count": 0,
      "outputs": []
    },
    {
      "cell_type": "markdown",
      "metadata": {
        "id": "oXrZSdv35ic-",
        "colab_type": "text"
      },
      "source": [
        "* Survival Rate of Womens in 1st class is about 95-96%.\n",
        "* Survival Rate of Mens in 1st class is also low."
      ]
    },
    {
      "cell_type": "markdown",
      "metadata": {
        "id": "EPkvx7VW5ic-",
        "colab_type": "text"
      },
      "source": [
        "### Survival Rate in Embarked Port"
      ]
    },
    {
      "cell_type": "code",
      "metadata": {
        "trusted": true,
        "id": "4HRZmzS15ic_",
        "colab_type": "code",
        "colab": {}
      },
      "source": [
        "FacetGrid = sns.FacetGrid(data, row='Embarked', height=4.0, aspect=1.6)\n",
        "FacetGrid.map(sns.pointplot, 'Pclass', 'Survived', 'Sex',palette='deep',  order=None, hue_order=None )\n",
        "FacetGrid.add_legend()"
      ],
      "execution_count": 0,
      "outputs": []
    },
    {
      "cell_type": "markdown",
      "metadata": {
        "id": "SgV3r5xT5idA",
        "colab_type": "text"
      },
      "source": [
        "* Women on port Q and on port S have a higher chance of survival. The inverse is true, if they are at port C. Men have a high survival probability if they are on port C, but a low probability if they are on port Q or S."
      ]
    },
    {
      "cell_type": "code",
      "metadata": {
        "trusted": true,
        "id": "4esFoggE5idB",
        "colab_type": "code",
        "colab": {}
      },
      "source": [
        "data = data.drop(['Name','Cabin','PassengerId','Ticket'],axis=1)"
      ],
      "execution_count": 0,
      "outputs": []
    },
    {
      "cell_type": "code",
      "metadata": {
        "trusted": true,
        "id": "aH1_x8N25idC",
        "colab_type": "code",
        "colab": {}
      },
      "source": [
        "# label encoding the data \n",
        "from sklearn.preprocessing import LabelEncoder \n",
        "le = LabelEncoder() \n",
        "\n",
        "data['Sex']= le.fit_transform(data['Sex']) \n",
        "data['Embarked'] =le.fit_transform(data['Embarked'])"
      ],
      "execution_count": 0,
      "outputs": []
    },
    {
      "cell_type": "code",
      "metadata": {
        "trusted": true,
        "id": "tVdA0YiL5idE",
        "colab_type": "code",
        "colab": {}
      },
      "source": [
        "data.columns"
      ],
      "execution_count": 0,
      "outputs": []
    },
    {
      "cell_type": "code",
      "metadata": {
        "trusted": true,
        "id": "KeFs86rU5idG",
        "colab_type": "code",
        "colab": {}
      },
      "source": [
        "data.head()"
      ],
      "execution_count": 0,
      "outputs": []
    },
    {
      "cell_type": "code",
      "metadata": {
        "trusted": true,
        "id": "6yhbsRul5idI",
        "colab_type": "code",
        "colab": {}
      },
      "source": [
        "plt.figure(figsize=(12,10))\n",
        "cor = data.corr()\n",
        "sns.heatmap(cor, annot=True, cmap=plt.cm.Reds)\n",
        "plt.show()"
      ],
      "execution_count": 0,
      "outputs": []
    },
    {
      "cell_type": "markdown",
      "metadata": {
        "id": "lBc-ERav5idL",
        "colab_type": "text"
      },
      "source": [
        "## Models"
      ]
    },
    {
      "cell_type": "code",
      "metadata": {
        "trusted": true,
        "id": "bm8iM6MH5idM",
        "colab_type": "code",
        "colab": {}
      },
      "source": [
        "train_data = pd.DataFrame()"
      ],
      "execution_count": 0,
      "outputs": []
    },
    {
      "cell_type": "code",
      "metadata": {
        "trusted": true,
        "id": "5e_RckaV5idO",
        "colab_type": "code",
        "colab": {}
      },
      "source": [
        "train_data = data"
      ],
      "execution_count": 0,
      "outputs": []
    },
    {
      "cell_type": "code",
      "metadata": {
        "trusted": true,
        "id": "JDwutbrw5idQ",
        "colab_type": "code",
        "colab": {}
      },
      "source": [
        "train_data.head()"
      ],
      "execution_count": 0,
      "outputs": []
    },
    {
      "cell_type": "code",
      "metadata": {
        "trusted": true,
        "id": "iWmJGHWs5idS",
        "colab_type": "code",
        "colab": {}
      },
      "source": [
        "train_X = train_data[train_data.columns[1:]].values\n",
        "train_Y = train_data[train_data.columns[0]]"
      ],
      "execution_count": 0,
      "outputs": []
    },
    {
      "cell_type": "code",
      "metadata": {
        "trusted": true,
        "id": "rlTLaYTj5idU",
        "colab_type": "code",
        "colab": {}
      },
      "source": [
        "test_data = pd.DataFrame()\n",
        "test_data = test\n",
        "test_data.head()"
      ],
      "execution_count": 0,
      "outputs": []
    },
    {
      "cell_type": "code",
      "metadata": {
        "trusted": true,
        "id": "UqU2U6I25idW",
        "colab_type": "code",
        "colab": {}
      },
      "source": [
        "final_output = pd.DataFrame()\n",
        "final_output = pd.DataFrame({'PassengerId': test_data['PassengerId']})\n",
        "final_output.head()"
      ],
      "execution_count": 0,
      "outputs": []
    },
    {
      "cell_type": "code",
      "metadata": {
        "trusted": true,
        "id": "JqBJndUM5idd",
        "colab_type": "code",
        "colab": {}
      },
      "source": [
        "test_data = test_data.drop(['Name','Cabin','PassengerId','Ticket'],axis=1)"
      ],
      "execution_count": 0,
      "outputs": []
    },
    {
      "cell_type": "code",
      "metadata": {
        "trusted": true,
        "id": "1apPQgFY5idi",
        "colab_type": "code",
        "colab": {}
      },
      "source": [
        "# Fill NaN value with mean in Age\n",
        "test_data['Age'] = test_data['Age'].fillna((test_data['Age'].mean()))\n",
        "\n",
        "# Fill NaN value with most common Port\n",
        "test_data['Fare'] = test_data['Fare'].fillna((test_data['Fare'].mean()))"
      ],
      "execution_count": 0,
      "outputs": []
    },
    {
      "cell_type": "code",
      "metadata": {
        "trusted": true,
        "id": "XsLRA_bP5idk",
        "colab_type": "code",
        "colab": {}
      },
      "source": [
        "find_NaN(test_data)"
      ],
      "execution_count": 0,
      "outputs": []
    },
    {
      "cell_type": "code",
      "metadata": {
        "trusted": true,
        "id": "McRhYF3-5idl",
        "colab_type": "code",
        "colab": {}
      },
      "source": [
        "# label encoding the data \n",
        "from sklearn.preprocessing import LabelEncoder \n",
        "le = LabelEncoder() \n",
        "\n",
        "test_data['Sex']= le.fit_transform(test_data['Sex']) \n",
        "test_data['Embarked'] =le.fit_transform(test_data['Embarked'])"
      ],
      "execution_count": 0,
      "outputs": []
    },
    {
      "cell_type": "code",
      "metadata": {
        "trusted": true,
        "id": "GWzTJCAD5idm",
        "colab_type": "code",
        "colab": {}
      },
      "source": [
        "test_data.head()"
      ],
      "execution_count": 0,
      "outputs": []
    },
    {
      "cell_type": "code",
      "metadata": {
        "trusted": true,
        "id": "a_F0L4xX5ido",
        "colab_type": "code",
        "colab": {}
      },
      "source": [
        "test_X = test_data[test_data.columns].values"
      ],
      "execution_count": 0,
      "outputs": []
    },
    {
      "cell_type": "markdown",
      "metadata": {
        "id": "fokCxgfU5idr",
        "colab_type": "text"
      },
      "source": [
        "### Support Vector Classifier"
      ]
    },
    {
      "cell_type": "code",
      "metadata": {
        "trusted": true,
        "id": "ESSVe_u_5ids",
        "colab_type": "code",
        "colab": {}
      },
      "source": [
        "from sklearn.svm import SVC # \"Support Vector Classifier\" \n",
        "svm_clf = SVC(kernel='linear',random_state=45) \n",
        "  \n",
        "# fitting x samples and y classes \n",
        "svm_clf.fit(train_X,train_Y) "
      ],
      "execution_count": 0,
      "outputs": []
    },
    {
      "cell_type": "code",
      "metadata": {
        "trusted": true,
        "id": "VYXZirHX5idu",
        "colab_type": "code",
        "colab": {}
      },
      "source": [
        "test_Y = svm_clf.predict(test_X)"
      ],
      "execution_count": 0,
      "outputs": []
    },
    {
      "cell_type": "code",
      "metadata": {
        "trusted": true,
        "id": "qMMN-GSm5idx",
        "colab_type": "code",
        "colab": {}
      },
      "source": [
        "final_output['Survived'] = test_Y"
      ],
      "execution_count": 0,
      "outputs": []
    },
    {
      "cell_type": "code",
      "metadata": {
        "trusted": true,
        "id": "EZM_owid5idy",
        "colab_type": "code",
        "colab": {}
      },
      "source": [
        "final_output.head()"
      ],
      "execution_count": 0,
      "outputs": []
    },
    {
      "cell_type": "code",
      "metadata": {
        "trusted": true,
        "id": "ITmpsupz5id0",
        "colab_type": "code",
        "colab": {}
      },
      "source": [
        "final_output.to_csv('SVM_output.csv',sep=',',index=False)"
      ],
      "execution_count": 0,
      "outputs": []
    },
    {
      "cell_type": "markdown",
      "metadata": {
        "id": "bhf-a_rI5id3",
        "colab_type": "text"
      },
      "source": [
        "### Random Forest Classifier"
      ]
    },
    {
      "cell_type": "code",
      "metadata": {
        "trusted": true,
        "id": "Mxq-PWDQ5id4",
        "colab_type": "code",
        "colab": {}
      },
      "source": [
        "# Random Forest is used for unbalanced DataSets\n",
        "from sklearn.ensemble import RandomForestClassifier\n",
        "from sklearn.metrics import roc_auc_score\n",
        "import warnings\n",
        "warnings.filterwarnings(\"ignore\")\n",
        "\n",
        "# Train model\n",
        "random_clf = RandomForestClassifier(random_state=45,n_estimators=100,min_samples_leaf=50)\n",
        "random_clf.fit(train_X, train_Y)"
      ],
      "execution_count": 0,
      "outputs": []
    },
    {
      "cell_type": "code",
      "metadata": {
        "trusted": true,
        "id": "GchwaHRg5id6",
        "colab_type": "code",
        "colab": {}
      },
      "source": [
        "random_test_Y = random_clf.predict(test_X)"
      ],
      "execution_count": 0,
      "outputs": []
    },
    {
      "cell_type": "code",
      "metadata": {
        "trusted": true,
        "id": "MLwXUOwU5id8",
        "colab_type": "code",
        "colab": {}
      },
      "source": [
        "final_output['Survived'] = random_test_Y"
      ],
      "execution_count": 0,
      "outputs": []
    },
    {
      "cell_type": "code",
      "metadata": {
        "trusted": true,
        "id": "u48614LH5id-",
        "colab_type": "code",
        "colab": {}
      },
      "source": [
        "final_output.head()"
      ],
      "execution_count": 0,
      "outputs": []
    },
    {
      "cell_type": "code",
      "metadata": {
        "trusted": true,
        "id": "mUUBwusG5ieA",
        "colab_type": "code",
        "colab": {}
      },
      "source": [
        "final_output.to_csv('Random_output.csv',sep=',',index=False)"
      ],
      "execution_count": 0,
      "outputs": []
    },
    {
      "cell_type": "code",
      "metadata": {
        "trusted": true,
        "id": "SlmmuTTF5ieC",
        "colab_type": "code",
        "colab": {}
      },
      "source": [
        ""
      ],
      "execution_count": 0,
      "outputs": []
    }
  ]
}