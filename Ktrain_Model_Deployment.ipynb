{
  "nbformat": 4,
  "nbformat_minor": 0,
  "metadata": {
    "colab": {
      "name": "Ktrain Model Deployment",
      "provenance": [],
      "collapsed_sections": [
        "Vo8n8Nxd1hbc"
      ],
      "toc_visible": true
    },
    "kernelspec": {
      "name": "python3",
      "display_name": "Python 3"
    },
    "accelerator": "GPU"
  },
  "cells": [
    {
      "cell_type": "markdown",
      "metadata": {
        "id": "fs33rA4mOtLT",
        "colab_type": "text"
      },
      "source": [
        "# ***Model - Ktrain***"
      ]
    },
    {
      "cell_type": "markdown",
      "metadata": {
        "id": "Vo8n8Nxd1hbc",
        "colab_type": "text"
      },
      "source": [
        "### ***Installing Packages***"
      ]
    },
    {
      "cell_type": "code",
      "metadata": {
        "id": "PyF93bmF1Kxr",
        "colab_type": "code",
        "colab": {}
      },
      "source": [
        "!pip install ktrain"
      ],
      "execution_count": 0,
      "outputs": []
    },
    {
      "cell_type": "markdown",
      "metadata": {
        "id": "j6OEjZP21m-Y",
        "colab_type": "text"
      },
      "source": [
        "### ***Importing packages***"
      ]
    },
    {
      "cell_type": "code",
      "metadata": {
        "id": "yHKXHgTQ1boY",
        "colab_type": "code",
        "colab": {}
      },
      "source": [
        "import numpy as np\n",
        "from tensorflow.keras import models\n",
        "from tensorflow.keras.models import model_from_json\n",
        "from tensorflow.keras.backend import get_session, set_session\n",
        "from tensorflow.keras import backend as K\n",
        "import pickle\n",
        "import tensorflow as tf\n",
        "\n",
        "from tensorflow.keras.models import model_from_json\n",
        "import pickle"
      ],
      "execution_count": 0,
      "outputs": []
    },
    {
      "cell_type": "code",
      "metadata": {
        "id": "f8wx7Fxz1Ppr",
        "colab_type": "code",
        "outputId": "5440e19f-bfc4-4c68-a29c-fa511de178f3",
        "colab": {
          "base_uri": "https://localhost:8080/",
          "height": 34
        }
      },
      "source": [
        "tf.__version__"
      ],
      "execution_count": 0,
      "outputs": [
        {
          "output_type": "execute_result",
          "data": {
            "text/plain": [
              "'1.15.0'"
            ]
          },
          "metadata": {
            "tags": []
          },
          "execution_count": 7
        }
      ]
    },
    {
      "cell_type": "markdown",
      "metadata": {
        "id": "snB7NnQz1yeY",
        "colab_type": "text"
      },
      "source": [
        "### ***Training***"
      ]
    },
    {
      "cell_type": "code",
      "metadata": {
        "id": "QWUpD6dtPA-Y",
        "colab_type": "code",
        "outputId": "9ec3583b-e1e9-40ab-d25c-049521550c71",
        "colab": {
          "base_uri": "https://localhost:8080/",
          "height": 204
        }
      },
      "source": [
        "DATA_PATH = 'Category.csv'\n",
        "NUM_WORDS = 50000\n",
        "MAXLEN = 25000\n",
        "(x_train, y_train), (x_test, y_test), preproc = text.texts_from_csv(DATA_PATH,\n",
        "                      'Sentences',\n",
        "                      label_columns = cat_dummies.columns[:-1],\n",
        "                      val_filepath=None, \n",
        "                      max_features=NUM_WORDS,\n",
        "                      maxlen=MAXLEN,\n",
        "                      encoding= 'utf-8')"
      ],
      "execution_count": 0,
      "outputs": [
        {
          "output_type": "stream",
          "text": [
            "language: en\n",
            "Word Counts: 40027\n",
            "Nrows: 25413\n",
            "25413 train sequences\n",
            "Average train sequence length: 24\n",
            "x_train shape: (25413,25000)\n",
            "y_train shape: (25413,151)\n",
            "2824 test sequences\n",
            "Average test sequence length: 23\n",
            "x_test shape: (2824,25000)\n",
            "y_test shape: (2824,151)\n"
          ],
          "name": "stdout"
        }
      ]
    },
    {
      "cell_type": "code",
      "metadata": {
        "id": "_apxjcgqOvdb",
        "colab_type": "code",
        "outputId": "5ffdc2e9-a4d0-445c-dff1-381764a52304",
        "colab": {
          "base_uri": "https://localhost:8080/",
          "height": 85
        }
      },
      "source": [
        "model = text.text_classifier('fasttext', (x_train, y_train), preproc=preproc)"
      ],
      "execution_count": 0,
      "outputs": [
        {
          "output_type": "stream",
          "text": [
            "Is Multi-Label? False\n",
            "compiling word ID features...\n",
            "maxlen is 25000\n",
            "done.\n"
          ],
          "name": "stdout"
        }
      ]
    },
    {
      "cell_type": "code",
      "metadata": {
        "id": "v6wWKcLwgVGK",
        "colab_type": "code",
        "colab": {}
      },
      "source": [
        "learner = ktrain.get_learner(model, train_data=(x_train, y_train), val_data=(x_test, y_test))"
      ],
      "execution_count": 0,
      "outputs": []
    },
    {
      "cell_type": "code",
      "metadata": {
        "id": "KqhOCierOq2F",
        "colab_type": "code",
        "outputId": "b560b48d-7748-4b7e-9586-88b225ba1710",
        "colab": {
          "base_uri": "https://localhost:8080/",
          "height": 473
        }
      },
      "source": [
        "learner.lr_find()\n",
        "learner.lr_plot()"
      ],
      "execution_count": 0,
      "outputs": [
        {
          "output_type": "stream",
          "text": [
            "simulating training for different learning rates... this may take a few moments...\n",
            "Train on 25413 samples\n",
            "Epoch 1/1024\n",
            "25413/25413 [==============================] - 56s 2ms/sample - loss: 5.2551 - acc: 0.0073\n",
            "Epoch 2/1024\n",
            "25413/25413 [==============================] - 56s 2ms/sample - loss: 4.9004 - acc: 0.0436\n",
            "Epoch 3/1024\n",
            " 8384/25413 [========>.....................] - ETA: 37s - loss: 9.2332 - acc: 0.0064\n",
            "\n",
            "done.\n",
            "Please invoke the Learner.lr_plot() method to visually inspect the loss plot to help identify the maximal learning rate associated with falling loss.\n"
          ],
          "name": "stdout"
        },
        {
          "output_type": "display_data",
          "data": {
            "image/png": "[encoded data removed]",
            "text/plain": [
              "<Figure size 432x288 with 1 Axes>"
            ]
          },
          "metadata": {
            "tags": []
          }
        }
      ]
    },
    {
      "cell_type": "code",
      "metadata": {
        "id": "dgnQ011TV7ej",
        "colab_type": "code",
        "outputId": "18e1dbf6-d165-4e23-ff25-fa6a546c23c9",
        "colab": {
          "base_uri": "https://localhost:8080/",
          "height": 1000
        }
      },
      "source": [
        "learner.autofit(0.001)"
      ],
      "execution_count": 0,
      "outputs": [
        {
          "output_type": "stream",
          "text": [
            "early_stopping automatically enabled at patience=5\n",
            "reduce_on_plateau automatically enabled at patience=2\n",
            "\n",
            "\n",
            "begin training using triangular learning rate policy with max lr of 0.001...\n",
            "Train on 25413 samples, validate on 2824 samples\n",
            "Epoch 1/1024\n",
            "25413/25413 [==============================] - 58s 2ms/sample - loss: 4.8633 - acc: 0.0516 - val_loss: 4.2578 - val_acc: 0.2663\n",
            "Epoch 2/1024\n",
            "25413/25413 [==============================] - 58s 2ms/sample - loss: 4.1159 - acc: 0.1599 - val_loss: 3.2442 - val_acc: 0.4246\n",
            "Epoch 3/1024\n",
            "25413/25413 [==============================] - 57s 2ms/sample - loss: 3.4800 - acc: 0.2516 - val_loss: 2.6075 - val_acc: 0.5004\n",
            "Epoch 4/1024\n",
            "25413/25413 [==============================] - 57s 2ms/sample - loss: 3.0776 - acc: 0.3081 - val_loss: 2.2776 - val_acc: 0.5340\n",
            "Epoch 5/1024\n",
            "25413/25413 [==============================] - 57s 2ms/sample - loss: 2.8008 - acc: 0.3543 - val_loss: 2.0829 - val_acc: 0.5535\n",
            "Epoch 6/1024\n",
            "25413/25413 [==============================] - 57s 2ms/sample - loss: 2.6162 - acc: 0.3815 - val_loss: 1.9494 - val_acc: 0.5740\n",
            "Epoch 7/1024\n",
            "25413/25413 [==============================] - 57s 2ms/sample - loss: 2.4505 - acc: 0.4099 - val_loss: 1.8717 - val_acc: 0.5864\n",
            "Epoch 8/1024\n",
            "25413/25413 [==============================] - 57s 2ms/sample - loss: 2.3333 - acc: 0.4315 - val_loss: 1.8010 - val_acc: 0.5935\n",
            "Epoch 9/1024\n",
            "25413/25413 [==============================] - 57s 2ms/sample - loss: 2.2274 - acc: 0.4476 - val_loss: 1.7525 - val_acc: 0.5988\n",
            "Epoch 10/1024\n",
            "25413/25413 [==============================] - 57s 2ms/sample - loss: 2.1430 - acc: 0.4641 - val_loss: 1.7096 - val_acc: 0.6073\n",
            "Epoch 11/1024\n",
            "25413/25413 [==============================] - 57s 2ms/sample - loss: 2.0560 - acc: 0.4824 - val_loss: 1.6760 - val_acc: 0.6119\n",
            "Epoch 12/1024\n",
            "25413/25413 [==============================] - 57s 2ms/sample - loss: 1.9807 - acc: 0.4942 - val_loss: 1.6490 - val_acc: 0.6211\n",
            "Epoch 13/1024\n",
            "25413/25413 [==============================] - 57s 2ms/sample - loss: 1.9132 - acc: 0.5105 - val_loss: 1.6286 - val_acc: 0.6328\n",
            "Epoch 14/1024\n",
            "25413/25413 [==============================] - 57s 2ms/sample - loss: 1.8547 - acc: 0.5219 - val_loss: 1.6071 - val_acc: 0.6300\n",
            "Epoch 15/1024\n",
            "25413/25413 [==============================] - 57s 2ms/sample - loss: 1.8042 - acc: 0.5339 - val_loss: 1.5837 - val_acc: 0.6367\n",
            "Epoch 16/1024\n",
            "25413/25413 [==============================] - 57s 2ms/sample - loss: 1.7569 - acc: 0.5448 - val_loss: 1.5747 - val_acc: 0.6349\n",
            "Epoch 17/1024\n",
            "25413/25413 [==============================] - 57s 2ms/sample - loss: 1.7134 - acc: 0.5542 - val_loss: 1.5638 - val_acc: 0.6448\n",
            "Epoch 18/1024\n",
            "25413/25413 [==============================] - 57s 2ms/sample - loss: 1.6608 - acc: 0.5622 - val_loss: 1.5618 - val_acc: 0.6466\n",
            "Epoch 19/1024\n",
            "25413/25413 [==============================] - 57s 2ms/sample - loss: 1.6140 - acc: 0.5745 - val_loss: 1.5522 - val_acc: 0.6480\n",
            "Epoch 20/1024\n",
            "25413/25413 [==============================] - 57s 2ms/sample - loss: 1.5819 - acc: 0.5856 - val_loss: 1.5421 - val_acc: 0.6462\n",
            "Epoch 21/1024\n",
            "25413/25413 [==============================] - 58s 2ms/sample - loss: 1.5562 - acc: 0.5925 - val_loss: 1.5360 - val_acc: 0.6604\n",
            "Epoch 22/1024\n",
            "25413/25413 [==============================] - 58s 2ms/sample - loss: 1.5212 - acc: 0.5985 - val_loss: 1.5442 - val_acc: 0.6462\n",
            "Epoch 23/1024\n",
            "25408/25413 [============================>.] - ETA: 0s - loss: 1.4989 - acc: 0.5994\n",
            "Epoch 00023: Reducing Max LR on Plateau: new max lr will be 0.0005 (if not early_stopping).\n",
            "25413/25413 [==============================] - 57s 2ms/sample - loss: 1.4991 - acc: 0.5994 - val_loss: 1.5370 - val_acc: 0.6516\n",
            "Epoch 24/1024\n",
            "25413/25413 [==============================] - 57s 2ms/sample - loss: 1.4332 - acc: 0.6178 - val_loss: 1.5344 - val_acc: 0.6569\n",
            "Epoch 25/1024\n",
            "25413/25413 [==============================] - 57s 2ms/sample - loss: 1.4002 - acc: 0.6260 - val_loss: 1.5222 - val_acc: 0.6590\n",
            "Epoch 26/1024\n",
            "25413/25413 [==============================] - 57s 2ms/sample - loss: 1.3710 - acc: 0.6330 - val_loss: 1.5214 - val_acc: 0.6593\n",
            "Epoch 27/1024\n",
            "25413/25413 [==============================] - 57s 2ms/sample - loss: 1.3455 - acc: 0.6385 - val_loss: 1.5213 - val_acc: 0.6562\n",
            "Epoch 28/1024\n",
            "25413/25413 [==============================] - 58s 2ms/sample - loss: 1.3286 - acc: 0.6423 - val_loss: 1.5177 - val_acc: 0.6668\n",
            "Epoch 29/1024\n",
            "25413/25413 [==============================] - 57s 2ms/sample - loss: 1.2940 - acc: 0.6533 - val_loss: 1.5209 - val_acc: 0.6632\n",
            "Epoch 30/1024\n",
            "25408/25413 [============================>.] - ETA: 0s - loss: 1.2768 - acc: 0.6530\n",
            "Epoch 00030: Reducing Max LR on Plateau: new max lr will be 0.00025 (if not early_stopping).\n",
            "25413/25413 [==============================] - 57s 2ms/sample - loss: 1.2771 - acc: 0.6529 - val_loss: 1.5210 - val_acc: 0.6650\n",
            "Epoch 31/1024\n",
            "25413/25413 [==============================] - 58s 2ms/sample - loss: 1.2454 - acc: 0.6639 - val_loss: 1.5165 - val_acc: 0.6678\n",
            "Epoch 32/1024\n",
            "25413/25413 [==============================] - 58s 2ms/sample - loss: 1.2304 - acc: 0.6712 - val_loss: 1.5187 - val_acc: 0.6675\n",
            "Epoch 33/1024\n",
            "25408/25413 [============================>.] - ETA: 0s - loss: 1.1979 - acc: 0.6722\n",
            "Epoch 00033: Reducing Max LR on Plateau: new max lr will be 0.000125 (if not early_stopping).\n",
            "25413/25413 [==============================] - 58s 2ms/sample - loss: 1.1981 - acc: 0.6721 - val_loss: 1.5174 - val_acc: 0.6696\n",
            "Epoch 34/1024\n",
            "25413/25413 [==============================] - 57s 2ms/sample - loss: 1.1889 - acc: 0.6788 - val_loss: 1.5179 - val_acc: 0.6675\n",
            "Epoch 35/1024\n",
            "25408/25413 [============================>.] - ETA: 0s - loss: 1.1891 - acc: 0.6807\n",
            "Epoch 00035: Reducing Max LR on Plateau: new max lr will be 6.25e-05 (if not early_stopping).\n",
            "25413/25413 [==============================] - 58s 2ms/sample - loss: 1.1896 - acc: 0.6806 - val_loss: 1.5201 - val_acc: 0.6686\n",
            "Epoch 36/1024\n",
            "25408/25413 [============================>.] - ETA: 0s - loss: 1.1582 - acc: 0.6877Restoring model weights from the end of the best epoch.\n",
            "25413/25413 [==============================] - 58s 2ms/sample - loss: 1.1586 - acc: 0.6876 - val_loss: 1.5200 - val_acc: 0.6682\n",
            "Epoch 00036: early stopping\n",
            "Weights from best epoch have been loaded into model.\n"
          ],
          "name": "stdout"
        },
        {
          "output_type": "execute_result",
          "data": {
            "text/plain": [
              "<tensorflow.python.keras.callbacks.History at 0x7f1e50a50828>"
            ]
          },
          "metadata": {
            "tags": []
          },
          "execution_count": 21
        }
      ]
    },
    {
      "cell_type": "markdown",
      "metadata": {
        "id": "8tlQSezWvm9w",
        "colab_type": "text"
      },
      "source": [
        "#### **Saving Model** "
      ]
    },
    {
      "cell_type": "code",
      "metadata": {
        "id": "ElGBGdQki6jj",
        "colab_type": "code",
        "colab": {}
      },
      "source": [
        "predictor = ktrain.get_predictor(learner.model, preproc)"
      ],
      "execution_count": 0,
      "outputs": []
    },
    {
      "cell_type": "code",
      "metadata": {
        "id": "5uenvYwRV-gk",
        "colab_type": "code",
        "outputId": "7fabf88c-3d74-451b-de59-4be1b842eb63",
        "colab": {
          "base_uri": "https://localhost:8080/",
          "height": 34
        }
      },
      "source": [
        "predictor.save('category')\n",
        "print('*********************************MODEL SAVED***************************************************')"
      ],
      "execution_count": 0,
      "outputs": [
        {
          "output_type": "stream",
          "text": [
            "*********************************MODEL SAVED***************************************************\n"
          ],
          "name": "stdout"
        }
      ]
    },
    {
      "cell_type": "markdown",
      "metadata": {
        "id": "6otphUh61C3r",
        "colab_type": "text"
      },
      "source": [
        "#### **Loading Model**"
      ]
    },
    {
      "cell_type": "code",
      "metadata": {
        "id": "PpQ5smBRV-fN",
        "colab_type": "code",
        "colab": {}
      },
      "source": [
        "# Loading the model and assign it to the predictor\n",
        "loaded_model = ktrain.load_predictor('category')"
      ],
      "execution_count": 0,
      "outputs": []
    },
    {
      "cell_type": "markdown",
      "metadata": {
        "id": "794wx1c7iyxG",
        "colab_type": "text"
      },
      "source": [
        "## **Saving and Loading Model - Deployment**"
      ]
    },
    {
      "cell_type": "code",
      "metadata": {
        "id": "fw3E1Umui4ja",
        "colab_type": "code",
        "outputId": "c123f435-efaf-4a4f-e872-8899a9341a72",
        "colab": {
          "base_uri": "https://localhost:8080/",
          "height": 34
        }
      },
      "source": [
        "# Saving Model\n",
        "model_json = learner.model.to_json()\n",
        "with open(\"model.json\", \"w\") as json_file:\n",
        "    json_file.write(model_json)\n",
        "\n",
        "learner.model.save_weights(\"model.h5\")\n",
        "print(\"Saved model to disk\")"
      ],
      "execution_count": 0,
      "outputs": [
        {
          "output_type": "stream",
          "text": [
            "Saved model to disk\n"
          ],
          "name": "stdout"
        }
      ]
    },
    {
      "cell_type": "code",
      "metadata": {
        "id": "R5QrV4lexozV",
        "colab_type": "code",
        "colab": {}
      },
      "source": [
        "def cat_init():\n",
        "  # Load model json file\n",
        "  json_file = open('model.json','r')\n",
        "\n",
        "  # Load Ktrain preproc file\n",
        "  features = pickle.load(open('model.preproc', 'rb'))\n",
        "  \n",
        "  # Session\n",
        "  sess =K.get_session()\n",
        "  graph = tf.get_default_graph()\n",
        "\n",
        "  loaded_model_json = json_file.read()\n",
        "  json_file.close()\n",
        "  loaded_model = model_from_json(loaded_model_json)\n",
        "\n",
        "  loaded_model.load_weights(\"model.h5\")\n",
        "  print(\"Model Loaded from disk\")\n",
        "\n",
        "  #compile and evaluate loaded model\n",
        "  loaded_model.compile(optimizer='adadelta', loss='categorical_crossentropy', metrics=['acc'])\n",
        "  return loaded_model,graph,sess,features"
      ],
      "execution_count": 0,
      "outputs": []
    },
    {
      "cell_type": "code",
      "metadata": {
        "id": "QUtgP2LezmOz",
        "colab_type": "code",
        "outputId": "f5568e81-1ad6-4efe-be32-5c8a0794ec32",
        "colab": {
          "base_uri": "https://localhost:8080/",
          "height": 51
        }
      },
      "source": [
        "global cat_graph, cat_model, cat_sess, cat_features\n",
        "cat_model, cat_graph, cat_sess, cat_features = cat_init()"
      ],
      "execution_count": 0,
      "outputs": [
        {
          "output_type": "stream",
          "text": [
            "using Keras version: 2.2.4-tf\n",
            "Model Loaded from disk\n"
          ],
          "name": "stdout"
        }
      ]
    },
    {
      "cell_type": "code",
      "metadata": {
        "id": "HSo9w3aDzpO5",
        "colab_type": "code",
        "colab": {}
      },
      "source": [
        "def convertText(text):\n",
        "\tvector_text = cat_features.preprocess([text])\n",
        "\treturn vector_text"
      ],
      "execution_count": 0,
      "outputs": []
    },
    {
      "cell_type": "code",
      "metadata": {
        "id": "qJFxo6rCz3mF",
        "colab_type": "code",
        "colab": {}
      },
      "source": [
        "query = 'i want to install ms office'"
      ],
      "execution_count": 0,
      "outputs": []
    },
    {
      "cell_type": "code",
      "metadata": {
        "id": "hnmxC5D5zskG",
        "colab_type": "code",
        "outputId": "0fd7c39a-1ebc-4817-aa73-f313e4eda1fa",
        "colab": {
          "base_uri": "https://localhost:8080/",
          "height": 34
        }
      },
      "source": [
        "vec_query = convertText(query)\n",
        "cat_classes = {0:'Hardware',1:'Network',2:'SAP Authorizations',3:'Software'}\n",
        "\n",
        "# Category prediction\n",
        "with cat_graph.as_default():\n",
        "  set_session(cat_sess)\n",
        "  vec_cat = cat_model.predict(vec_query)\n",
        "\n",
        "cat_index = vec_cat[0].argmax(axis=0)\n",
        "\n",
        "category = cat_classes[cat_index]\n",
        "print({'Category':category})"
      ],
      "execution_count": 0,
      "outputs": [
        {
          "output_type": "stream",
          "text": [
            "{'Category': 'Software'}\n"
          ],
          "name": "stdout"
        }
      ]
    },
    {
      "cell_type": "code",
      "metadata": {
        "id": "--chuRVo2BAb",
        "colab_type": "code",
        "colab": {}
      },
      "source": [
        ""
      ],
      "execution_count": 0,
      "outputs": []
    }
  ]
}