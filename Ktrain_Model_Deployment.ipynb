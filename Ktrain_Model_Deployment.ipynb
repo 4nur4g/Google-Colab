{
  "nbformat": 4,
  "nbformat_minor": 0,
  "metadata": {
    "colab": {
      "name": "Ktrain Model Deployment",
      "provenance": [],
      "collapsed_sections": [],
      "toc_visible": true
    },
    "kernelspec": {
      "name": "python3",
      "display_name": "Python 3"
    },
    "accelerator": "GPU"
  },
  "cells": [
    {
      "cell_type": "markdown",
      "metadata": {
        "id": "fs33rA4mOtLT",
        "colab_type": "text"
      },
      "source": [
        "# ***Model - Ktrain***"
      ]
    },
    {
      "cell_type": "markdown",
      "metadata": {
        "id": "Vo8n8Nxd1hbc",
        "colab_type": "text"
      },
      "source": [
        "### ***Installing Packages***"
      ]
    },
    {
      "cell_type": "code",
      "metadata": {
        "id": "PyF93bmF1Kxr",
        "colab_type": "code",
        "colab": {
          "base_uri": "https://localhost:8080/",
          "height": 1000
        },
        "outputId": "78999876-1a03-423c-f94b-db8ed356043c"
      },
      "source": [
        "!pip install ktrain"
      ],
      "execution_count": 3,
      "outputs": [
        {
          "output_type": "stream",
          "text": [
            "Collecting ktrain\n",
            "\u001b[?25l  Downloading https://files.pythonhosted.org/packages/17/40/bb9a34bfd0e8e6f6f763fb3f97b61734b1a868fce66ef7e8ab65a71120de/ktrain-0.7.2.tar.gz (88kB)\n",
            "\r\u001b[K     |███▊                            | 10kB 35.0MB/s eta 0:00:01\r\u001b[K     |███████▍                        | 20kB 2.0MB/s eta 0:00:01\r\u001b[K     |███████████                     | 30kB 3.0MB/s eta 0:00:01\r\u001b[K     |██████████████▊                 | 40kB 2.0MB/s eta 0:00:01\r\u001b[K     |██████████████████▍             | 51kB 2.5MB/s eta 0:00:01\r\u001b[K     |██████████████████████▏         | 61kB 3.0MB/s eta 0:00:01\r\u001b[K     |█████████████████████████▉      | 71kB 3.5MB/s eta 0:00:01\r\u001b[K     |█████████████████████████████▌  | 81kB 3.9MB/s eta 0:00:01\r\u001b[K     |████████████████████████████████| 92kB 3.5MB/s \n",
            "\u001b[?25hRequirement already satisfied: scikit-learn==0.21.3 in /usr/local/lib/python3.6/dist-packages (from ktrain) (0.21.3)\n",
            "Requirement already satisfied: matplotlib>=3.0.0 in /usr/local/lib/python3.6/dist-packages (from ktrain) (3.1.2)\n",
            "Requirement already satisfied: pandas>=0.24.2 in /usr/local/lib/python3.6/dist-packages (from ktrain) (0.25.3)\n",
            "Requirement already satisfied: fastprogress>=0.1.21 in /usr/local/lib/python3.6/dist-packages (from ktrain) (0.1.22)\n",
            "Collecting keras_bert\n",
            "  Downloading https://files.pythonhosted.org/packages/df/fe/bf46de1ef9d1395cd735d8df5402f5d837ef82cfd348a252ad8f32feeaef/keras-bert-0.80.0.tar.gz\n",
            "Requirement already satisfied: requests in /usr/local/lib/python3.6/dist-packages (from ktrain) (2.21.0)\n",
            "Requirement already satisfied: joblib in /usr/local/lib/python3.6/dist-packages (from ktrain) (0.14.1)\n",
            "Collecting langdetect\n",
            "\u001b[?25l  Downloading https://files.pythonhosted.org/packages/59/59/4bc44158a767a6d66de18c4136c8aa90491d56cc951c10b74dd1e13213c9/langdetect-1.0.7.zip (998kB)\n",
            "\u001b[K     |████████████████████████████████| 1.0MB 10.4MB/s \n",
            "\u001b[?25hRequirement already satisfied: jieba in /usr/local/lib/python3.6/dist-packages (from ktrain) (0.39)\n",
            "Collecting cchardet\n",
            "\u001b[?25l  Downloading https://files.pythonhosted.org/packages/fa/4e/847feebfc3e71c773b23ee06c74687b8c50a5a6d6aaff452a0a4f4eb9a32/cchardet-2.1.5-cp36-cp36m-manylinux1_x86_64.whl (241kB)\n",
            "\u001b[K     |████████████████████████████████| 245kB 59.6MB/s \n",
            "\u001b[?25hCollecting networkx==2.3\n",
            "\u001b[?25l  Downloading https://files.pythonhosted.org/packages/85/08/f20aef11d4c343b557e5de6b9548761811eb16e438cee3d32b1c66c8566b/networkx-2.3.zip (1.7MB)\n",
            "\u001b[K     |████████████████████████████████| 1.8MB 54.7MB/s \n",
            "\u001b[?25hRequirement already satisfied: bokeh in /usr/local/lib/python3.6/dist-packages (from ktrain) (1.0.4)\n",
            "Collecting seqeval\n",
            "  Downloading https://files.pythonhosted.org/packages/34/91/068aca8d60ce56dd9ba4506850e876aba5e66a6f2f29aa223224b50df0de/seqeval-0.0.12.tar.gz\n",
            "Requirement already satisfied: packaging in /usr/local/lib/python3.6/dist-packages (from ktrain) (19.2)\n",
            "Requirement already satisfied: numpy>=1.11.0 in /usr/local/lib/python3.6/dist-packages (from scikit-learn==0.21.3->ktrain) (1.17.4)\n",
            "Requirement already satisfied: scipy>=0.17.0 in /usr/local/lib/python3.6/dist-packages (from scikit-learn==0.21.3->ktrain) (1.3.3)\n",
            "Requirement already satisfied: pyparsing!=2.0.4,!=2.1.2,!=2.1.6,>=2.0.1 in /usr/local/lib/python3.6/dist-packages (from matplotlib>=3.0.0->ktrain) (2.4.5)\n",
            "Requirement already satisfied: kiwisolver>=1.0.1 in /usr/local/lib/python3.6/dist-packages (from matplotlib>=3.0.0->ktrain) (1.1.0)\n",
            "Requirement already satisfied: python-dateutil>=2.1 in /usr/local/lib/python3.6/dist-packages (from matplotlib>=3.0.0->ktrain) (2.6.1)\n",
            "Requirement already satisfied: cycler>=0.10 in /usr/local/lib/python3.6/dist-packages (from matplotlib>=3.0.0->ktrain) (0.10.0)\n",
            "Requirement already satisfied: pytz>=2017.2 in /usr/local/lib/python3.6/dist-packages (from pandas>=0.24.2->ktrain) (2018.9)\n",
            "Requirement already satisfied: Keras in /usr/local/lib/python3.6/dist-packages (from keras_bert->ktrain) (2.2.5)\n",
            "Collecting keras-transformer>=0.30.0\n",
            "  Downloading https://files.pythonhosted.org/packages/0a/57/496b1eab888171b0801a0a44d3245a7874b8d1cc04c1fbfdbb5e3327fc7a/keras-transformer-0.31.0.tar.gz\n",
            "Requirement already satisfied: idna<2.9,>=2.5 in /usr/local/lib/python3.6/dist-packages (from requests->ktrain) (2.8)\n",
            "Requirement already satisfied: chardet<3.1.0,>=3.0.2 in /usr/local/lib/python3.6/dist-packages (from requests->ktrain) (3.0.4)\n",
            "Requirement already satisfied: urllib3<1.25,>=1.21.1 in /usr/local/lib/python3.6/dist-packages (from requests->ktrain) (1.24.3)\n",
            "Requirement already satisfied: certifi>=2017.4.17 in /usr/local/lib/python3.6/dist-packages (from requests->ktrain) (2019.11.28)\n",
            "Requirement already satisfied: six in /usr/local/lib/python3.6/dist-packages (from langdetect->ktrain) (1.12.0)\n",
            "Requirement already satisfied: decorator>=4.3.0 in /usr/local/lib/python3.6/dist-packages (from networkx==2.3->ktrain) (4.4.1)\n",
            "Requirement already satisfied: PyYAML>=3.10 in /usr/local/lib/python3.6/dist-packages (from bokeh->ktrain) (3.13)\n",
            "Requirement already satisfied: Jinja2>=2.7 in /usr/local/lib/python3.6/dist-packages (from bokeh->ktrain) (2.10.3)\n",
            "Requirement already satisfied: pillow>=4.0 in /usr/local/lib/python3.6/dist-packages (from bokeh->ktrain) (4.3.0)\n",
            "Requirement already satisfied: tornado>=4.3 in /usr/local/lib/python3.6/dist-packages (from bokeh->ktrain) (4.5.3)\n",
            "Requirement already satisfied: setuptools in /usr/local/lib/python3.6/dist-packages (from kiwisolver>=1.0.1->matplotlib>=3.0.0->ktrain) (42.0.2)\n",
            "Requirement already satisfied: keras-applications>=1.0.8 in /usr/local/lib/python3.6/dist-packages (from Keras->keras_bert->ktrain) (1.0.8)\n",
            "Requirement already satisfied: h5py in /usr/local/lib/python3.6/dist-packages (from Keras->keras_bert->ktrain) (2.8.0)\n",
            "Requirement already satisfied: keras-preprocessing>=1.1.0 in /usr/local/lib/python3.6/dist-packages (from Keras->keras_bert->ktrain) (1.1.0)\n",
            "Collecting keras-pos-embd>=0.10.0\n",
            "  Downloading https://files.pythonhosted.org/packages/09/70/b63ed8fc660da2bb6ae29b9895401c628da5740c048c190b5d7107cadd02/keras-pos-embd-0.11.0.tar.gz\n",
            "Collecting keras-multi-head>=0.22.0\n",
            "  Downloading https://files.pythonhosted.org/packages/40/3e/d0a64bb2ac5217928effe4507c26bbd19b86145d16a1948bc2d4f4c6338a/keras-multi-head-0.22.0.tar.gz\n",
            "Collecting keras-layer-normalization>=0.12.0\n",
            "  Downloading https://files.pythonhosted.org/packages/a4/0e/d1078df0494bac9ce1a67954e5380b6e7569668f0f3b50a9531c62c1fc4a/keras-layer-normalization-0.14.0.tar.gz\n",
            "Collecting keras-position-wise-feed-forward>=0.5.0\n",
            "  Downloading https://files.pythonhosted.org/packages/e3/59/f0faa1037c033059e7e9e7758e6c23b4d1c0772cd48de14c4b6fd4033ad5/keras-position-wise-feed-forward-0.6.0.tar.gz\n",
            "Collecting keras-embed-sim>=0.7.0\n",
            "  Downloading https://files.pythonhosted.org/packages/bc/20/735fd53f6896e2af63af47e212601c1b8a7a80d00b6126c388c9d1233892/keras-embed-sim-0.7.0.tar.gz\n",
            "Requirement already satisfied: MarkupSafe>=0.23 in /usr/local/lib/python3.6/dist-packages (from Jinja2>=2.7->bokeh->ktrain) (1.1.1)\n",
            "Requirement already satisfied: olefile in /usr/local/lib/python3.6/dist-packages (from pillow>=4.0->bokeh->ktrain) (0.46)\n",
            "Collecting keras-self-attention==0.41.0\n",
            "  Downloading https://files.pythonhosted.org/packages/1b/1c/01599219bef7266fa43b3316e4f55bcb487734d3bafdc60ffd564f3cfe29/keras-self-attention-0.41.0.tar.gz\n",
            "Building wheels for collected packages: ktrain, keras-bert, langdetect, networkx, seqeval, keras-transformer, keras-pos-embd, keras-multi-head, keras-layer-normalization, keras-position-wise-feed-forward, keras-embed-sim, keras-self-attention\n",
            "  Building wheel for ktrain (setup.py) ... \u001b[?25l\u001b[?25hdone\n",
            "  Created wheel for ktrain: filename=ktrain-0.7.2-cp36-none-any.whl size=113492 sha256=54a8d94e5875e605a24f316d6183c3e962d229ef32530f60ff870647c48d928c\n",
            "  Stored in directory: /root/.cache/pip/wheels/ed/db/bd/fb2cb12563e8a7e5ef04f99cc9014bc0e509f1bb3834e6ee5d\n",
            "  Building wheel for keras-bert (setup.py) ... \u001b[?25l\u001b[?25hdone\n",
            "  Created wheel for keras-bert: filename=keras_bert-0.80.0-cp36-none-any.whl size=37923 sha256=9ae101f817381c2f6efc1dc608a283f04564eaf06c3e66c060da1d573daf4fee\n",
            "  Stored in directory: /root/.cache/pip/wheels/63/dc/87/3260cb91f3aa32c0f85c5375429a30c8fd988bbb48f5ee21b0\n",
            "  Building wheel for langdetect (setup.py) ... \u001b[?25l\u001b[?25hdone\n",
            "  Created wheel for langdetect: filename=langdetect-1.0.7-cp36-none-any.whl size=993460 sha256=b6d71386aea1802e729f2cda253529f58c4c933d44c3929d9c85ff6f501a6e24\n",
            "  Stored in directory: /root/.cache/pip/wheels/ec/0c/a9/1647275e7ef5014e7b83ff30105180e332867d65e7617ddafe\n",
            "  Building wheel for networkx (setup.py) ... \u001b[?25l\u001b[?25hdone\n",
            "  Created wheel for networkx: filename=networkx-2.3-py2.py3-none-any.whl size=1556408 sha256=1496654fec7edbdb21a0c39d46942e0ac392a5595707882a3cbf6f5bdb6d5bc3\n",
            "  Stored in directory: /root/.cache/pip/wheels/de/63/64/3699be2a9d0ccdb37c7f16329acf3863fd76eda58c39c737af\n",
            "  Building wheel for seqeval (setup.py) ... \u001b[?25l\u001b[?25hdone\n",
            "  Created wheel for seqeval: filename=seqeval-0.0.12-cp36-none-any.whl size=7424 sha256=3b320defaa276308ea73dd297345812892ce55cdb9e598099f0d95c3249dab48\n",
            "  Stored in directory: /root/.cache/pip/wheels/4f/32/0a/df3b340a82583566975377d65e724895b3fad101a3fb729f68\n",
            "  Building wheel for keras-transformer (setup.py) ... \u001b[?25l\u001b[?25hdone\n",
            "  Created wheel for keras-transformer: filename=keras_transformer-0.31.0-cp36-none-any.whl size=13385 sha256=ae175e6a5c325f44b9af5006c6a1ceb8a93dfddce9b1979c3d5d0d98256b418e\n",
            "  Stored in directory: /root/.cache/pip/wheels/a3/c5/9a/5a5130240be614a7a6fa786765d7692ae97f82601e2161bb56\n",
            "  Building wheel for keras-pos-embd (setup.py) ... \u001b[?25l\u001b[?25hdone\n",
            "  Created wheel for keras-pos-embd: filename=keras_pos_embd-0.11.0-cp36-none-any.whl size=7553 sha256=d48c7a81037f2f33edb219964db3f76e16e8d638efd7433d74b576d7a9c561ea\n",
            "  Stored in directory: /root/.cache/pip/wheels/5b/a1/a0/ce6b1d49ba1a9a76f592e70cf297b05c96bc9f418146761032\n",
            "  Building wheel for keras-multi-head (setup.py) ... \u001b[?25l\u001b[?25hdone\n",
            "  Created wheel for keras-multi-head: filename=keras_multi_head-0.22.0-cp36-none-any.whl size=15371 sha256=2633b73c4eb51b8a354a0af2219e5f95faeff9f4c514d5640c9c380990eff742\n",
            "  Stored in directory: /root/.cache/pip/wheels/bb/df/3f/81b36f41b66e6a9cd69224c70a737de2bb6b2f7feb3272c25e\n",
            "  Building wheel for keras-layer-normalization (setup.py) ... \u001b[?25l\u001b[?25hdone\n",
            "  Created wheel for keras-layer-normalization: filename=keras_layer_normalization-0.14.0-cp36-none-any.whl size=5268 sha256=6a3943427df7958f448030e86903a49dcef3fde399011a7cbd0296c9071bb6a5\n",
            "  Stored in directory: /root/.cache/pip/wheels/54/80/22/a638a7d406fd155e507aa33d703e3fa2612b9eb7bb4f4fe667\n",
            "  Building wheel for keras-position-wise-feed-forward (setup.py) ... \u001b[?25l\u001b[?25hdone\n",
            "  Created wheel for keras-position-wise-feed-forward: filename=keras_position_wise_feed_forward-0.6.0-cp36-none-any.whl size=5624 sha256=41ce54a2727b8ea4650b4bb407b92672feb92241923379c24e3595a5b7b00b56\n",
            "  Stored in directory: /root/.cache/pip/wheels/39/e2/e2/3514fef126a00574b13bc0b9e23891800158df3a3c19c96e3b\n",
            "  Building wheel for keras-embed-sim (setup.py) ... \u001b[?25l\u001b[?25hdone\n",
            "  Created wheel for keras-embed-sim: filename=keras_embed_sim-0.7.0-cp36-none-any.whl size=4676 sha256=8c592c01096e46ffdc2ba94905830fd69235b2a15488415abeb070bb2a8bd439\n",
            "  Stored in directory: /root/.cache/pip/wheels/d1/bc/b1/b0c45cee4ca2e6c86586b0218ffafe7f0703c6d07fdf049866\n",
            "  Building wheel for keras-self-attention (setup.py) ... \u001b[?25l\u001b[?25hdone\n",
            "  Created wheel for keras-self-attention: filename=keras_self_attention-0.41.0-cp36-none-any.whl size=17290 sha256=0eca8818a352ba2b84c277d5f6969112745ec885737681b0f528877a74a37fc7\n",
            "  Stored in directory: /root/.cache/pip/wheels/cc/dc/17/84258b27a04cd38ac91998abe148203720ca696186635db694\n",
            "Successfully built ktrain keras-bert langdetect networkx seqeval keras-transformer keras-pos-embd keras-multi-head keras-layer-normalization keras-position-wise-feed-forward keras-embed-sim keras-self-attention\n",
            "\u001b[31mERROR: albumentations 0.1.12 has requirement imgaug<0.2.7,>=0.2.5, but you'll have imgaug 0.2.9 which is incompatible.\u001b[0m\n",
            "Installing collected packages: keras-pos-embd, keras-self-attention, keras-multi-head, keras-layer-normalization, keras-position-wise-feed-forward, keras-embed-sim, keras-transformer, keras-bert, langdetect, cchardet, networkx, seqeval, ktrain\n",
            "  Found existing installation: networkx 2.4\n",
            "    Uninstalling networkx-2.4:\n",
            "      Successfully uninstalled networkx-2.4\n",
            "Successfully installed cchardet-2.1.5 keras-bert-0.80.0 keras-embed-sim-0.7.0 keras-layer-normalization-0.14.0 keras-multi-head-0.22.0 keras-pos-embd-0.11.0 keras-position-wise-feed-forward-0.6.0 keras-self-attention-0.41.0 keras-transformer-0.31.0 ktrain-0.7.2 langdetect-1.0.7 networkx-2.3 seqeval-0.0.12\n"
          ],
          "name": "stdout"
        }
      ]
    },
    {
      "cell_type": "markdown",
      "metadata": {
        "id": "j6OEjZP21m-Y",
        "colab_type": "text"
      },
      "source": [
        "### ***Importing packages***"
      ]
    },
    {
      "cell_type": "code",
      "metadata": {
        "id": "yHKXHgTQ1boY",
        "colab_type": "code",
        "colab": {}
      },
      "source": [
        "import numpy as np\n",
        "from tensorflow.keras import models\n",
        "from tensorflow.keras.models import model_from_json\n",
        "from tensorflow.keras.backend import get_session, set_session\n",
        "from tensorflow.keras import backend as K\n",
        "import pickle\n",
        "import tensorflow as tf\n",
        "\n",
        "from tensorflow.keras.models import model_from_json\n",
        "import pickle"
      ],
      "execution_count": 0,
      "outputs": []
    },
    {
      "cell_type": "code",
      "metadata": {
        "id": "f8wx7Fxz1Ppr",
        "colab_type": "code",
        "colab": {
          "base_uri": "https://localhost:8080/",
          "height": 34
        },
        "outputId": "5440e19f-bfc4-4c68-a29c-fa511de178f3"
      },
      "source": [
        "tf.__version__"
      ],
      "execution_count": 7,
      "outputs": [
        {
          "output_type": "execute_result",
          "data": {
            "text/plain": [
              "'1.15.0'"
            ]
          },
          "metadata": {
            "tags": []
          },
          "execution_count": 7
        }
      ]
    },
    {
      "cell_type": "markdown",
      "metadata": {
        "id": "snB7NnQz1yeY",
        "colab_type": "text"
      },
      "source": [
        "### ***Training***"
      ]
    },
    {
      "cell_type": "code",
      "metadata": {
        "id": "QWUpD6dtPA-Y",
        "colab_type": "code",
        "outputId": "9ec3583b-e1e9-40ab-d25c-049521550c71",
        "colab": {
          "base_uri": "https://localhost:8080/",
          "height": 204
        }
      },
      "source": [
        "DATA_PATH = 'Category.csv'\n",
        "NUM_WORDS = 50000\n",
        "MAXLEN = 25000\n",
        "(x_train, y_train), (x_test, y_test), preproc = text.texts_from_csv(DATA_PATH,\n",
        "                      'Sentences',\n",
        "                      label_columns = cat_dummies.columns[:-1],\n",
        "                      val_filepath=None, \n",
        "                      max_features=NUM_WORDS,\n",
        "                      maxlen=MAXLEN,\n",
        "                      encoding= 'utf-8')"
      ],
      "execution_count": 0,
      "outputs": [
        {
          "output_type": "stream",
          "text": [
            "language: en\n",
            "Word Counts: 40027\n",
            "Nrows: 25413\n",
            "25413 train sequences\n",
            "Average train sequence length: 24\n",
            "x_train shape: (25413,25000)\n",
            "y_train shape: (25413,151)\n",
            "2824 test sequences\n",
            "Average test sequence length: 23\n",
            "x_test shape: (2824,25000)\n",
            "y_test shape: (2824,151)\n"
          ],
          "name": "stdout"
        }
      ]
    },
    {
      "cell_type": "code",
      "metadata": {
        "id": "_apxjcgqOvdb",
        "colab_type": "code",
        "outputId": "5ffdc2e9-a4d0-445c-dff1-381764a52304",
        "colab": {
          "base_uri": "https://localhost:8080/",
          "height": 85
        }
      },
      "source": [
        "model = text.text_classifier('fasttext', (x_train, y_train), preproc=preproc)"
      ],
      "execution_count": 0,
      "outputs": [
        {
          "output_type": "stream",
          "text": [
            "Is Multi-Label? False\n",
            "compiling word ID features...\n",
            "maxlen is 25000\n",
            "done.\n"
          ],
          "name": "stdout"
        }
      ]
    },
    {
      "cell_type": "code",
      "metadata": {
        "id": "v6wWKcLwgVGK",
        "colab_type": "code",
        "colab": {}
      },
      "source": [
        "learner = ktrain.get_learner(model, train_data=(x_train, y_train), val_data=(x_test, y_test))"
      ],
      "execution_count": 0,
      "outputs": []
    },
    {
      "cell_type": "code",
      "metadata": {
        "id": "KqhOCierOq2F",
        "colab_type": "code",
        "outputId": "b560b48d-7748-4b7e-9586-88b225ba1710",
        "colab": {
          "base_uri": "https://localhost:8080/",
          "height": 473
        }
      },
      "source": [
        "learner.lr_find()\n",
        "learner.lr_plot()"
      ],
      "execution_count": 0,
      "outputs": [
        {
          "output_type": "stream",
          "text": [
            "simulating training for different learning rates... this may take a few moments...\n",
            "Train on 25413 samples\n",
            "Epoch 1/1024\n",
            "25413/25413 [==============================] - 56s 2ms/sample - loss: 5.2551 - acc: 0.0073\n",
            "Epoch 2/1024\n",
            "25413/25413 [==============================] - 56s 2ms/sample - loss: 4.9004 - acc: 0.0436\n",
            "Epoch 3/1024\n",
            " 8384/25413 [========>.....................] - ETA: 37s - loss: 9.2332 - acc: 0.0064\n",
            "\n",
            "done.\n",
            "Please invoke the Learner.lr_plot() method to visually inspect the loss plot to help identify the maximal learning rate associated with falling loss.\n"
          ],
          "name": "stdout"
        },
        {
          "output_type": "display_data",
          "data": {
            "image/png": "[encoded data removed]",
            "text/plain": [
              "<Figure size 432x288 with 1 Axes>"
            ]
          },
          "metadata": {
            "tags": []
          }
        }
      ]
    },
    {
      "cell_type": "code",
      "metadata": {
        "id": "dgnQ011TV7ej",
        "colab_type": "code",
        "outputId": "18e1dbf6-d165-4e23-ff25-fa6a546c23c9",
        "colab": {
          "base_uri": "https://localhost:8080/",
          "height": 1000
        }
      },
      "source": [
        "learner.autofit(0.001)"
      ],
      "execution_count": 0,
      "outputs": [
        {
          "output_type": "stream",
          "text": [
            "early_stopping automatically enabled at patience=5\n",
            "reduce_on_plateau automatically enabled at patience=2\n",
            "\n",
            "\n",
            "begin training using triangular learning rate policy with max lr of 0.001...\n",
            "Train on 25413 samples, validate on 2824 samples\n",
            "Epoch 1/1024\n",
            "25413/25413 [==============================] - 58s 2ms/sample - loss: 4.8633 - acc: 0.0516 - val_loss: 4.2578 - val_acc: 0.2663\n",
            "Epoch 2/1024\n",
            "25413/25413 [==============================] - 58s 2ms/sample - loss: 4.1159 - acc: 0.1599 - val_loss: 3.2442 - val_acc: 0.4246\n",
            "Epoch 3/1024\n",
            "25413/25413 [==============================] - 57s 2ms/sample - loss: 3.4800 - acc: 0.2516 - val_loss: 2.6075 - val_acc: 0.5004\n",
            "Epoch 4/1024\n",
            "25413/25413 [==============================] - 57s 2ms/sample - loss: 3.0776 - acc: 0.3081 - val_loss: 2.2776 - val_acc: 0.5340\n",
            "Epoch 5/1024\n",
            "25413/25413 [==============================] - 57s 2ms/sample - loss: 2.8008 - acc: 0.3543 - val_loss: 2.0829 - val_acc: 0.5535\n",
            "Epoch 6/1024\n",
            "25413/25413 [==============================] - 57s 2ms/sample - loss: 2.6162 - acc: 0.3815 - val_loss: 1.9494 - val_acc: 0.5740\n",
            "Epoch 7/1024\n",
            "25413/25413 [==============================] - 57s 2ms/sample - loss: 2.4505 - acc: 0.4099 - val_loss: 1.8717 - val_acc: 0.5864\n",
            "Epoch 8/1024\n",
            "25413/25413 [==============================] - 57s 2ms/sample - loss: 2.3333 - acc: 0.4315 - val_loss: 1.8010 - val_acc: 0.5935\n",
            "Epoch 9/1024\n",
            "25413/25413 [==============================] - 57s 2ms/sample - loss: 2.2274 - acc: 0.4476 - val_loss: 1.7525 - val_acc: 0.5988\n",
            "Epoch 10/1024\n",
            "25413/25413 [==============================] - 57s 2ms/sample - loss: 2.1430 - acc: 0.4641 - val_loss: 1.7096 - val_acc: 0.6073\n",
            "Epoch 11/1024\n",
            "25413/25413 [==============================] - 57s 2ms/sample - loss: 2.0560 - acc: 0.4824 - val_loss: 1.6760 - val_acc: 0.6119\n",
            "Epoch 12/1024\n",
            "25413/25413 [==============================] - 57s 2ms/sample - loss: 1.9807 - acc: 0.4942 - val_loss: 1.6490 - val_acc: 0.6211\n",
            "Epoch 13/1024\n",
            "25413/25413 [==============================] - 57s 2ms/sample - loss: 1.9132 - acc: 0.5105 - val_loss: 1.6286 - val_acc: 0.6328\n",
            "Epoch 14/1024\n",
            "25413/25413 [==============================] - 57s 2ms/sample - loss: 1.8547 - acc: 0.5219 - val_loss: 1.6071 - val_acc: 0.6300\n",
            "Epoch 15/1024\n",
            "25413/25413 [==============================] - 57s 2ms/sample - loss: 1.8042 - acc: 0.5339 - val_loss: 1.5837 - val_acc: 0.6367\n",
            "Epoch 16/1024\n",
            "25413/25413 [==============================] - 57s 2ms/sample - loss: 1.7569 - acc: 0.5448 - val_loss: 1.5747 - val_acc: 0.6349\n",
            "Epoch 17/1024\n",
            "25413/25413 [==============================] - 57s 2ms/sample - loss: 1.7134 - acc: 0.5542 - val_loss: 1.5638 - val_acc: 0.6448\n",
            "Epoch 18/1024\n",
            "25413/25413 [==============================] - 57s 2ms/sample - loss: 1.6608 - acc: 0.5622 - val_loss: 1.5618 - val_acc: 0.6466\n",
            "Epoch 19/1024\n",
            "25413/25413 [==============================] - 57s 2ms/sample - loss: 1.6140 - acc: 0.5745 - val_loss: 1.5522 - val_acc: 0.6480\n",
            "Epoch 20/1024\n",
            "25413/25413 [==============================] - 57s 2ms/sample - loss: 1.5819 - acc: 0.5856 - val_loss: 1.5421 - val_acc: 0.6462\n",
            "Epoch 21/1024\n",
            "25413/25413 [==============================] - 58s 2ms/sample - loss: 1.5562 - acc: 0.5925 - val_loss: 1.5360 - val_acc: 0.6604\n",
            "Epoch 22/1024\n",
            "25413/25413 [==============================] - 58s 2ms/sample - loss: 1.5212 - acc: 0.5985 - val_loss: 1.5442 - val_acc: 0.6462\n",
            "Epoch 23/1024\n",
            "25408/25413 [============================>.] - ETA: 0s - loss: 1.4989 - acc: 0.5994\n",
            "Epoch 00023: Reducing Max LR on Plateau: new max lr will be 0.0005 (if not early_stopping).\n",
            "25413/25413 [==============================] - 57s 2ms/sample - loss: 1.4991 - acc: 0.5994 - val_loss: 1.5370 - val_acc: 0.6516\n",
            "Epoch 24/1024\n",
            "25413/25413 [==============================] - 57s 2ms/sample - loss: 1.4332 - acc: 0.6178 - val_loss: 1.5344 - val_acc: 0.6569\n",
            "Epoch 25/1024\n",
            "25413/25413 [==============================] - 57s 2ms/sample - loss: 1.4002 - acc: 0.6260 - val_loss: 1.5222 - val_acc: 0.6590\n",
            "Epoch 26/1024\n",
            "25413/25413 [==============================] - 57s 2ms/sample - loss: 1.3710 - acc: 0.6330 - val_loss: 1.5214 - val_acc: 0.6593\n",
            "Epoch 27/1024\n",
            "25413/25413 [==============================] - 57s 2ms/sample - loss: 1.3455 - acc: 0.6385 - val_loss: 1.5213 - val_acc: 0.6562\n",
            "Epoch 28/1024\n",
            "25413/25413 [==============================] - 58s 2ms/sample - loss: 1.3286 - acc: 0.6423 - val_loss: 1.5177 - val_acc: 0.6668\n",
            "Epoch 29/1024\n",
            "25413/25413 [==============================] - 57s 2ms/sample - loss: 1.2940 - acc: 0.6533 - val_loss: 1.5209 - val_acc: 0.6632\n",
            "Epoch 30/1024\n",
            "25408/25413 [============================>.] - ETA: 0s - loss: 1.2768 - acc: 0.6530\n",
            "Epoch 00030: Reducing Max LR on Plateau: new max lr will be 0.00025 (if not early_stopping).\n",
            "25413/25413 [==============================] - 57s 2ms/sample - loss: 1.2771 - acc: 0.6529 - val_loss: 1.5210 - val_acc: 0.6650\n",
            "Epoch 31/1024\n",
            "25413/25413 [==============================] - 58s 2ms/sample - loss: 1.2454 - acc: 0.6639 - val_loss: 1.5165 - val_acc: 0.6678\n",
            "Epoch 32/1024\n",
            "25413/25413 [==============================] - 58s 2ms/sample - loss: 1.2304 - acc: 0.6712 - val_loss: 1.5187 - val_acc: 0.6675\n",
            "Epoch 33/1024\n",
            "25408/25413 [============================>.] - ETA: 0s - loss: 1.1979 - acc: 0.6722\n",
            "Epoch 00033: Reducing Max LR on Plateau: new max lr will be 0.000125 (if not early_stopping).\n",
            "25413/25413 [==============================] - 58s 2ms/sample - loss: 1.1981 - acc: 0.6721 - val_loss: 1.5174 - val_acc: 0.6696\n",
            "Epoch 34/1024\n",
            "25413/25413 [==============================] - 57s 2ms/sample - loss: 1.1889 - acc: 0.6788 - val_loss: 1.5179 - val_acc: 0.6675\n",
            "Epoch 35/1024\n",
            "25408/25413 [============================>.] - ETA: 0s - loss: 1.1891 - acc: 0.6807\n",
            "Epoch 00035: Reducing Max LR on Plateau: new max lr will be 6.25e-05 (if not early_stopping).\n",
            "25413/25413 [==============================] - 58s 2ms/sample - loss: 1.1896 - acc: 0.6806 - val_loss: 1.5201 - val_acc: 0.6686\n",
            "Epoch 36/1024\n",
            "25408/25413 [============================>.] - ETA: 0s - loss: 1.1582 - acc: 0.6877Restoring model weights from the end of the best epoch.\n",
            "25413/25413 [==============================] - 58s 2ms/sample - loss: 1.1586 - acc: 0.6876 - val_loss: 1.5200 - val_acc: 0.6682\n",
            "Epoch 00036: early stopping\n",
            "Weights from best epoch have been loaded into model.\n"
          ],
          "name": "stdout"
        },
        {
          "output_type": "execute_result",
          "data": {
            "text/plain": [
              "<tensorflow.python.keras.callbacks.History at 0x7f1e50a50828>"
            ]
          },
          "metadata": {
            "tags": []
          },
          "execution_count": 21
        }
      ]
    },
    {
      "cell_type": "markdown",
      "metadata": {
        "id": "8tlQSezWvm9w",
        "colab_type": "text"
      },
      "source": [
        "#### **Saving Model** "
      ]
    },
    {
      "cell_type": "code",
      "metadata": {
        "id": "ElGBGdQki6jj",
        "colab_type": "code",
        "colab": {}
      },
      "source": [
        "predictor = ktrain.get_predictor(learner.model, preproc)"
      ],
      "execution_count": 0,
      "outputs": []
    },
    {
      "cell_type": "code",
      "metadata": {
        "id": "5uenvYwRV-gk",
        "colab_type": "code",
        "outputId": "7fabf88c-3d74-451b-de59-4be1b842eb63",
        "colab": {
          "base_uri": "https://localhost:8080/",
          "height": 34
        }
      },
      "source": [
        "predictor.save('category')\n",
        "print('*********************************MODEL SAVED***************************************************')"
      ],
      "execution_count": 0,
      "outputs": [
        {
          "output_type": "stream",
          "text": [
            "*********************************MODEL SAVED***************************************************\n"
          ],
          "name": "stdout"
        }
      ]
    },
    {
      "cell_type": "markdown",
      "metadata": {
        "id": "6otphUh61C3r",
        "colab_type": "text"
      },
      "source": [
        "#### **Loading Model**"
      ]
    },
    {
      "cell_type": "code",
      "metadata": {
        "id": "PpQ5smBRV-fN",
        "colab_type": "code",
        "colab": {}
      },
      "source": [
        "# Loading the model and assign it to the predictor\n",
        "loaded_model = ktrain.load_predictor('category')"
      ],
      "execution_count": 0,
      "outputs": []
    },
    {
      "cell_type": "markdown",
      "metadata": {
        "id": "794wx1c7iyxG",
        "colab_type": "text"
      },
      "source": [
        "## **Saving and Loading Model - Deployment**"
      ]
    },
    {
      "cell_type": "code",
      "metadata": {
        "id": "fw3E1Umui4ja",
        "colab_type": "code",
        "outputId": "c123f435-efaf-4a4f-e872-8899a9341a72",
        "colab": {
          "base_uri": "https://localhost:8080/",
          "height": 34
        }
      },
      "source": [
        "# Saving Model\n",
        "model_json = learner.model.to_json()\n",
        "with open(\"model.json\", \"w\") as json_file:\n",
        "    json_file.write(model_json)\n",
        "\n",
        "learner.model.save_weights(\"model.h5\")\n",
        "print(\"Saved model to disk\")"
      ],
      "execution_count": 0,
      "outputs": [
        {
          "output_type": "stream",
          "text": [
            "Saved model to disk\n"
          ],
          "name": "stdout"
        }
      ]
    },
    {
      "cell_type": "code",
      "metadata": {
        "id": "R5QrV4lexozV",
        "colab_type": "code",
        "colab": {}
      },
      "source": [
        "def cat_init():\n",
        "  # Load model json file\n",
        "  json_file = open('/content/drive/My Drive/Models/cat_model.json','r')\n",
        "\n",
        "  # Load Ktrain preproc file\n",
        "  features = pickle.load(open('/content/drive/My Drive/Models/cat_model.preproc', 'rb'))\n",
        "  \n",
        "  # Session\n",
        "  sess =K.get_session()\n",
        "  graph = tf.get_default_graph()\n",
        "\n",
        "  loaded_model_json = json_file.read()\n",
        "  json_file.close()\n",
        "  loaded_model = model_from_json(loaded_model_json)\n",
        "\n",
        "  loaded_model.load_weights(\"/content/drive/My Drive/Models/cat_model.h5\")\n",
        "  print(\"Model Loaded from disk\")\n",
        "\n",
        "  #compile and evaluate loaded model\n",
        "  loaded_model.compile(optimizer='adadelta', loss='categorical_crossentropy', metrics=['acc'])\n",
        "  return loaded_model,graph,sess,features"
      ],
      "execution_count": 0,
      "outputs": []
    },
    {
      "cell_type": "code",
      "metadata": {
        "id": "QUtgP2LezmOz",
        "colab_type": "code",
        "outputId": "f5568e81-1ad6-4efe-be32-5c8a0794ec32",
        "colab": {
          "base_uri": "https://localhost:8080/",
          "height": 51
        }
      },
      "source": [
        "global cat_graph, cat_model, cat_sess, cat_features\n",
        "cat_model, cat_graph, cat_sess, cat_features = cat_init()"
      ],
      "execution_count": 9,
      "outputs": [
        {
          "output_type": "stream",
          "text": [
            "using Keras version: 2.2.4-tf\n",
            "Model Loaded from disk\n"
          ],
          "name": "stdout"
        }
      ]
    },
    {
      "cell_type": "code",
      "metadata": {
        "id": "HSo9w3aDzpO5",
        "colab_type": "code",
        "colab": {}
      },
      "source": [
        "def convertText(text):\n",
        "\tvector_text = cat_features.preprocess([text])\n",
        "\treturn vector_text"
      ],
      "execution_count": 0,
      "outputs": []
    },
    {
      "cell_type": "code",
      "metadata": {
        "id": "qJFxo6rCz3mF",
        "colab_type": "code",
        "colab": {}
      },
      "source": [
        "query = 'i want to install ms office'"
      ],
      "execution_count": 0,
      "outputs": []
    },
    {
      "cell_type": "code",
      "metadata": {
        "id": "hnmxC5D5zskG",
        "colab_type": "code",
        "outputId": "0fd7c39a-1ebc-4817-aa73-f313e4eda1fa",
        "colab": {
          "base_uri": "https://localhost:8080/",
          "height": 34
        }
      },
      "source": [
        "vec_query = convertText(query)\n",
        "cat_classes = {0:'Hardware',1:'Network',2:'SAP Authorizations',3:'Software'}\n",
        "\n",
        "# Category prediction\n",
        "with cat_graph.as_default():\n",
        "  set_session(cat_sess)\n",
        "  vec_cat = cat_model.predict(vec_query)\n",
        "\n",
        "cat_index = vec_cat[0].argmax(axis=0)\n",
        "\n",
        "category = cat_classes[cat_index]\n",
        "print({'Category':category})"
      ],
      "execution_count": 12,
      "outputs": [
        {
          "output_type": "stream",
          "text": [
            "{'Category': 'Software'}\n"
          ],
          "name": "stdout"
        }
      ]
    },
    {
      "cell_type": "code",
      "metadata": {
        "id": "--chuRVo2BAb",
        "colab_type": "code",
        "colab": {}
      },
      "source": [
        ""
      ],
      "execution_count": 0,
      "outputs": []
    }
  ]
}